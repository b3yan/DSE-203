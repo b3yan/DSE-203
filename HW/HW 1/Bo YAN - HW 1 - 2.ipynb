{
 "cells": [
  {
   "cell_type": "markdown",
   "id": "900e6cda",
   "metadata": {
    "toc": true
   },
   "source": [
    "<h1>Table of Contents<span class=\"tocSkip\"></span></h1>\n",
    "<div class=\"toc\"><ul class=\"toc-item\"><li><span><a href=\"#Bo-YAN---HW-1-Question-2\" data-toc-modified-id=\"Bo-YAN---HW-1-Question-2-1\">Bo YAN - HW 1 Question 2</a></span><ul class=\"toc-item\"><li><span><a href=\"#Using-organization-names-from-Patentholders.csv-that-have-the-string-&quot;Inc&quot;-(i.e.,-incorporated)-find-similar-values-in-the-orgNames.csv-data-set.-Your-output-should-be-a-table-where-the-first-column-is-a-name-from-Patentholders.csv-and-the-second-column-is-a-list-of-matching-values-from-orgNames.csv.\" data-toc-modified-id=\"Using-organization-names-from-Patentholders.csv-that-have-the-string-&quot;Inc&quot;-(i.e.,-incorporated)-find-similar-values-in-the-orgNames.csv-data-set.-Your-output-should-be-a-table-where-the-first-column-is-a-name-from-Patentholders.csv-and-the-second-column-is-a-list-of-matching-values-from-orgNames.csv.-1.1\">Using organization names from Patentholders.csv that have the string \"Inc\" (i.e., incorporated) find similar values in the orgNames.csv data set. Your output should be a table where the first column is a name from Patentholders.csv and the second column is a list of matching values from orgNames.csv.</a></span></li></ul></li><li><span><a href=\"#1.-Load-data\" data-toc-modified-id=\"1.-Load-data-2\">1. Load data</a></span></li><li><span><a href=\"#2.-Create-functions-and-declarations\" data-toc-modified-id=\"2.-Create-functions-and-declarations-3\">2. Create functions and declarations</a></span><ul class=\"toc-item\"><li><span><a href=\"#2.1---Functions\" data-toc-modified-id=\"2.1---Functions-3.1\">2.1 - Functions</a></span></li><li><span><a href=\"#2.2---Declarations\" data-toc-modified-id=\"2.2---Declarations-3.2\">2.2 - Declarations</a></span></li></ul></li><li><span><a href=\"#3.-Filter-data\" data-toc-modified-id=\"3.-Filter-data-4\">3. Filter data</a></span></li><li><span><a href=\"#4.-Apply-pruning-methods-and-find-the-matching-values\" data-toc-modified-id=\"4.-Apply-pruning-methods-and-find-the-matching-values-5\">4. Apply pruning methods and find the matching values</a></span></li><li><span><a href=\"#5.-Concate-dataframes\" data-toc-modified-id=\"5.-Concate-dataframes-6\">5. Concate dataframes</a></span></li><li><span><a href=\"#6.-Output-table\" data-toc-modified-id=\"6.-Output-table-7\">6. Output table</a></span></li><li><span><a href=\"#7.-Time-complexity\" data-toc-modified-id=\"7.-Time-complexity-8\">7. Time complexity</a></span><ul class=\"toc-item\"><li><span><a href=\"#The-time-complexity-after-filtering-and-pruning-is-around-5-minutes.-If-we-loose-the-constraints,-it-may-take-more-time.\" data-toc-modified-id=\"The-time-complexity-after-filtering-and-pruning-is-around-5-minutes.-If-we-loose-the-constraints,-it-may-take-more-time.-8.1\">The time complexity after filtering and pruning is around 5 minutes. If we loose the constraints, it may take more time.</a></span></li></ul></li></ul></div>"
   ]
  },
  {
   "cell_type": "markdown",
   "id": "f0022c3e-c59a-4227-b844-844e8b9aa1a7",
   "metadata": {},
   "source": [
    "# Bo YAN - HW 1 Question 2"
   ]
  },
  {
   "cell_type": "markdown",
   "id": "3d73e83c-3359-4d27-ad39-3cda30134857",
   "metadata": {},
   "source": [
    "## Using organization names from Patentholders.csv that have the string \"Inc\" (i.e., incorporated) find similar values in the orgNames.csv data set. Your output should be a table where the first column is a name from Patentholders.csv and the second column is a list of matching values from orgNames.csv."
   ]
  },
  {
   "cell_type": "code",
   "execution_count": 1,
   "id": "a80879ba-6a68-4c81-b906-4d96ea28cc47",
   "metadata": {},
   "outputs": [],
   "source": [
    "import py_stringmatching as sm \n",
    "import pandas as pd\n",
    "import numpy as np \n",
    "from sklearn.metrics import precision_score, recall_score\n",
    "from collections import Counter\n",
    "import re\n",
    "import warnings\n",
    "warnings.filterwarnings(\"ignore\")"
   ]
  },
  {
   "cell_type": "markdown",
   "id": "9f8d2f66-c091-4f6e-bf28-c11a70f00e18",
   "metadata": {},
   "source": [
    "# 1. Load data\n",
    "    ▪ Load patent_holders data\n",
    "    ▪ Load org_names data"
   ]
  },
  {
   "cell_type": "code",
   "execution_count": 2,
   "id": "5719d584-55c2-4b50-89c5-9179d40d364d",
   "metadata": {},
   "outputs": [
    {
     "name": "stdout",
     "output_type": "stream",
     "text": [
      "(7620, 1)\n"
     ]
    },
    {
     "data": {
      "text/html": [
       "<div>\n",
       "<style scoped>\n",
       "    .dataframe tbody tr th:only-of-type {\n",
       "        vertical-align: middle;\n",
       "    }\n",
       "\n",
       "    .dataframe tbody tr th {\n",
       "        vertical-align: top;\n",
       "    }\n",
       "\n",
       "    .dataframe thead th {\n",
       "        text-align: right;\n",
       "    }\n",
       "</style>\n",
       "<table border=\"1\" class=\"dataframe\">\n",
       "  <thead>\n",
       "    <tr style=\"text-align: right;\">\n",
       "      <th></th>\n",
       "      <th>patent_holders</th>\n",
       "    </tr>\n",
       "  </thead>\n",
       "  <tbody>\n",
       "    <tr>\n",
       "      <th>0</th>\n",
       "      <td>Signify Holding BV</td>\n",
       "    </tr>\n",
       "    <tr>\n",
       "      <th>1</th>\n",
       "      <td>ThyssenKrupp Airport Systems SA</td>\n",
       "    </tr>\n",
       "    <tr>\n",
       "      <th>2</th>\n",
       "      <td>Eurenco</td>\n",
       "    </tr>\n",
       "    <tr>\n",
       "      <th>3</th>\n",
       "      <td>EI du Pont de Nemours and Co</td>\n",
       "    </tr>\n",
       "    <tr>\n",
       "      <th>4</th>\n",
       "      <td>TRIATEX INTERNATIONAL AG</td>\n",
       "    </tr>\n",
       "    <tr>\n",
       "      <th>5</th>\n",
       "      <td>THYSSENKRUPP TAILORED BLANKS GMBH, 47139 DUISB...</td>\n",
       "    </tr>\n",
       "    <tr>\n",
       "      <th>6</th>\n",
       "      <td>Howe Wayne R</td>\n",
       "    </tr>\n",
       "    <tr>\n",
       "      <th>7</th>\n",
       "      <td>Carbone Lorraine Composants</td>\n",
       "    </tr>\n",
       "    <tr>\n",
       "      <th>8</th>\n",
       "      <td>Google LLC</td>\n",
       "    </tr>\n",
       "    <tr>\n",
       "      <th>9</th>\n",
       "      <td>MACOM Technology Solutions Holdings Inc</td>\n",
       "    </tr>\n",
       "  </tbody>\n",
       "</table>\n",
       "</div>"
      ],
      "text/plain": [
       "                                      patent_holders\n",
       "0                                 Signify Holding BV\n",
       "1                    ThyssenKrupp Airport Systems SA\n",
       "2                                            Eurenco\n",
       "3                       EI du Pont de Nemours and Co\n",
       "4                           TRIATEX INTERNATIONAL AG\n",
       "5  THYSSENKRUPP TAILORED BLANKS GMBH, 47139 DUISB...\n",
       "6                                       Howe Wayne R\n",
       "7                        Carbone Lorraine Composants\n",
       "8                                         Google LLC\n",
       "9            MACOM Technology Solutions Holdings Inc"
      ]
     },
     "execution_count": 2,
     "metadata": {},
     "output_type": "execute_result"
    }
   ],
   "source": [
    "patent_holders_data = pd.read_csv('Patentholders.csv', header = None, names = ['patent_holders'])\n",
    "patent_holders_data.drop_duplicates(subset = 'patent_holders', inplace = True)\n",
    "print(patent_holders_data.shape)\n",
    "patent_holders_data.head(10)"
   ]
  },
  {
   "cell_type": "code",
   "execution_count": 3,
   "id": "99a726c2-92a9-4b52-8e07-39f7a0824fa5",
   "metadata": {},
   "outputs": [
    {
     "name": "stdout",
     "output_type": "stream",
     "text": [
      "(443539, 1)\n"
     ]
    },
    {
     "data": {
      "text/html": [
       "<div>\n",
       "<style scoped>\n",
       "    .dataframe tbody tr th:only-of-type {\n",
       "        vertical-align: middle;\n",
       "    }\n",
       "\n",
       "    .dataframe tbody tr th {\n",
       "        vertical-align: top;\n",
       "    }\n",
       "\n",
       "    .dataframe thead th {\n",
       "        text-align: right;\n",
       "    }\n",
       "</style>\n",
       "<table border=\"1\" class=\"dataframe\">\n",
       "  <thead>\n",
       "    <tr style=\"text-align: right;\">\n",
       "      <th></th>\n",
       "      <th>org_names</th>\n",
       "    </tr>\n",
       "  </thead>\n",
       "  <tbody>\n",
       "    <tr>\n",
       "      <th>0</th>\n",
       "      <td>00 jackson state</td>\n",
       "    </tr>\n",
       "    <tr>\n",
       "      <th>1</th>\n",
       "      <td>0150</td>\n",
       "    </tr>\n",
       "    <tr>\n",
       "      <th>2</th>\n",
       "      <td>01 trump</td>\n",
       "    </tr>\n",
       "    <tr>\n",
       "      <th>3</th>\n",
       "      <td>02</td>\n",
       "    </tr>\n",
       "    <tr>\n",
       "      <th>4</th>\n",
       "      <td>02512</td>\n",
       "    </tr>\n",
       "    <tr>\n",
       "      <th>5</th>\n",
       "      <td>0263</td>\n",
       "    </tr>\n",
       "    <tr>\n",
       "      <th>6</th>\n",
       "      <td>0270</td>\n",
       "    </tr>\n",
       "    <tr>\n",
       "      <th>7</th>\n",
       "      <td>02 father of merced</td>\n",
       "    </tr>\n",
       "    <tr>\n",
       "      <th>8</th>\n",
       "      <td>02 meet</td>\n",
       "    </tr>\n",
       "    <tr>\n",
       "      <th>9</th>\n",
       "      <td>03</td>\n",
       "    </tr>\n",
       "  </tbody>\n",
       "</table>\n",
       "</div>"
      ],
      "text/plain": [
       "             org_names\n",
       "0     00 jackson state\n",
       "1                 0150\n",
       "2             01 trump\n",
       "3                   02\n",
       "4                02512\n",
       "5                 0263\n",
       "6                 0270\n",
       "7  02 father of merced\n",
       "8              02 meet\n",
       "9                   03"
      ]
     },
     "execution_count": 3,
     "metadata": {},
     "output_type": "execute_result"
    }
   ],
   "source": [
    "org_names_data = pd.read_csv('orgNames.csv', header = None, names = ['org_names'])\n",
    "org_names_data.drop_duplicates(subset = 'org_names', inplace = True)\n",
    "org_names_data.dropna(subset=['org_names'])\n",
    "print(org_names_data.shape)\n",
    "org_names_data.head(10)"
   ]
  },
  {
   "cell_type": "markdown",
   "id": "f9d6f51d-c971-4f9a-a80a-9eb73e56da95",
   "metadata": {},
   "source": [
    "# 2. Create functions and declarations"
   ]
  },
  {
   "cell_type": "markdown",
   "id": "178b21ed-f6f1-476b-85a6-af50bf9939c5",
   "metadata": {},
   "source": [
    "## 2.1 - Functions"
   ]
  },
  {
   "cell_type": "code",
   "execution_count": 4,
   "id": "ca1f5a63-c018-4927-b47e-d92d56d7da6a",
   "metadata": {},
   "outputs": [],
   "source": [
    "def filter_by_string(data, string, column_name):\n",
    "    data = data[data[column_name].str.contains(string, case = False, na = False)]\n",
    "    data = data[data[column_name].str.endswith(string)]\n",
    "    data.reset_index(drop = True, inplace= True)\n",
    "    return data"
   ]
  },
  {
   "cell_type": "code",
   "execution_count": 5,
   "id": "21aa1f6e-ab7c-4191-b2e4-3bd1bf9d4089",
   "metadata": {},
   "outputs": [],
   "source": [
    "# Common tokens for Jaccard token based similarity: T = t/(1 + t) * (|r| + |s|)\n",
    "def pruning_by_word_count(source_data_list, target_data_list, source_data_index, threshold):    \n",
    "    target_data_list_after_pruning_by_word_count = []\n",
    "    source_data_list_word_count = len(str(source_data_list[source_data_index]).split())\n",
    "    \n",
    "    for item in target_data_list:              \n",
    "        target_data_list_word_count = len(str(item).split())\n",
    "        \n",
    "        # common tokens we need\n",
    "        tokens_number_need = threshold/(1 + threshold) * (source_data_list_word_count + target_data_list_word_count)\n",
    "    \n",
    "        # find common tokens number\n",
    "        common_tokens_number = len(set(str(source_data_list[source_data_index]).lower().split()) & set(str(item).lower().split()))\n",
    "        \n",
    "        # if common token number is over the needed, then add this to our list\n",
    "        if common_tokens_number >= tokens_number_need:\n",
    "            target_data_list_after_pruning_by_word_count.append(item)    \n",
    "    \n",
    "    return target_data_list_after_pruning_by_word_count"
   ]
  },
  {
   "cell_type": "code",
   "execution_count": 6,
   "id": "e513ac0c-9d72-4131-873d-e1cd17d374a1",
   "metadata": {},
   "outputs": [],
   "source": [
    "def pruning_by_word_size(source_data_list, target_data_list, source_data_index, word_size_width):   \n",
    "    word_size = len(source_data_list[source_data_index].split())    \n",
    "    target_data_list_after_pruning_by_word_size = []\n",
    "    for item in target_data_list:\n",
    "        size_constraint = (word_size - word_size_width <= len(str(item).split()) <= word_size + word_size_width)\n",
    "        # if we want to use a strict size constraint match, we can apply the line below.\n",
    "        # size_constraint = len(str(item).split())       \n",
    "        if size_constraint:\n",
    "            target_data_list_after_pruning_by_word_size.append(item)\n",
    "    return target_data_list_after_pruning_by_word_size"
   ]
  },
  {
   "cell_type": "code",
   "execution_count": 7,
   "id": "b695d567-d1b0-410a-b180-99b484234afa",
   "metadata": {},
   "outputs": [],
   "source": [
    "def pruning_by_prefix_filtering(source_data_list, target_data_list_after_pruning_by_word_size, source_data_index, start_letter_index, end_letter_index):\n",
    "    final_target_data_list = []\n",
    "    for item in target_data_list_after_pruning_by_word_size:\n",
    "        start_letters = source_data_list[source_data_index].lower()[start_letter_index:end_letter_index]\n",
    "        prefix_filtering = str(item)[start_letter_index:end_letter_index]        \n",
    "        if prefix_filtering == start_letters:\n",
    "            final_target_data_list.append(item)\n",
    "    return final_target_data_list"
   ]
  },
  {
   "cell_type": "code",
   "execution_count": 8,
   "id": "653fca55-8196-44ea-8d73-d2f6b974c7bb",
   "metadata": {},
   "outputs": [],
   "source": [
    "def find_matching_values(source_data_list, final_target_data_list, source_data_index, threshold_value, similarity_measure, word_token):\n",
    "    result = []\n",
    "    for item in final_target_data_list:\n",
    "        score = similarity_measure.get_sim_score(word_token.tokenize(source_data_list[source_data_index].lower()), word_token.tokenize(item.lower()))\n",
    "        if score > threshold_value:\n",
    "            result.append(item)\n",
    "    return result"
   ]
  },
  {
   "cell_type": "markdown",
   "id": "e3b08ad4-a3d7-48a7-8467-86ef22b8efb4",
   "metadata": {},
   "source": [
    "## 2.2 - Declarations"
   ]
  },
  {
   "cell_type": "code",
   "execution_count": 9,
   "id": "54e1600f-fe17-4bf7-9330-3df6320dc450",
   "metadata": {},
   "outputs": [],
   "source": [
    "# create a whitespace tokenizer\n",
    "ws_tok = sm.WhitespaceTokenizer()\n",
    "\n",
    "# create a qgram tokenizer using q = 3\n",
    "qg3_tok = sm.QgramTokenizer(qval = 3)\n",
    "\n",
    "# create a Jaccard similarity measure object\n",
    "jac = sm.Jaccard()"
   ]
  },
  {
   "cell_type": "markdown",
   "id": "0a8c2b15-6a54-4a2c-94ef-88eb1956aa39",
   "metadata": {},
   "source": [
    "# 3. Filter data"
   ]
  },
  {
   "cell_type": "code",
   "execution_count": 10,
   "id": "2176cb0b-eae2-4b5a-bbf0-3804d21cc1d4",
   "metadata": {},
   "outputs": [
    {
     "name": "stdout",
     "output_type": "stream",
     "text": [
      "(2063, 1)\n"
     ]
    },
    {
     "data": {
      "text/html": [
       "<div>\n",
       "<style scoped>\n",
       "    .dataframe tbody tr th:only-of-type {\n",
       "        vertical-align: middle;\n",
       "    }\n",
       "\n",
       "    .dataframe tbody tr th {\n",
       "        vertical-align: top;\n",
       "    }\n",
       "\n",
       "    .dataframe thead th {\n",
       "        text-align: right;\n",
       "    }\n",
       "</style>\n",
       "<table border=\"1\" class=\"dataframe\">\n",
       "  <thead>\n",
       "    <tr style=\"text-align: right;\">\n",
       "      <th></th>\n",
       "      <th>patent_holders</th>\n",
       "    </tr>\n",
       "  </thead>\n",
       "  <tbody>\n",
       "    <tr>\n",
       "      <th>0</th>\n",
       "      <td>MACOM Technology Solutions Holdings Inc</td>\n",
       "    </tr>\n",
       "    <tr>\n",
       "      <th>1</th>\n",
       "      <td>CONFIDENT TECHNOLOGIES Inc</td>\n",
       "    </tr>\n",
       "    <tr>\n",
       "      <th>2</th>\n",
       "      <td>Bitsysoft Technology Inc</td>\n",
       "    </tr>\n",
       "    <tr>\n",
       "      <th>3</th>\n",
       "      <td>Specialty Manufacturing Inc</td>\n",
       "    </tr>\n",
       "    <tr>\n",
       "      <th>4</th>\n",
       "      <td>Bell Helicopter Michigan Inc</td>\n",
       "    </tr>\n",
       "    <tr>\n",
       "      <th>5</th>\n",
       "      <td>Autodesk Inc</td>\n",
       "    </tr>\n",
       "    <tr>\n",
       "      <th>6</th>\n",
       "      <td>Alert Logic Inc</td>\n",
       "    </tr>\n",
       "    <tr>\n",
       "      <th>7</th>\n",
       "      <td>BOOZ-ALLEN HAMILTON Inc</td>\n",
       "    </tr>\n",
       "    <tr>\n",
       "      <th>8</th>\n",
       "      <td>AFX Tech Group International Inc</td>\n",
       "    </tr>\n",
       "    <tr>\n",
       "      <th>9</th>\n",
       "      <td>CTB Inc</td>\n",
       "    </tr>\n",
       "  </tbody>\n",
       "</table>\n",
       "</div>"
      ],
      "text/plain": [
       "                            patent_holders\n",
       "0  MACOM Technology Solutions Holdings Inc\n",
       "1               CONFIDENT TECHNOLOGIES Inc\n",
       "2                 Bitsysoft Technology Inc\n",
       "3              Specialty Manufacturing Inc\n",
       "4             Bell Helicopter Michigan Inc\n",
       "5                             Autodesk Inc\n",
       "6                          Alert Logic Inc\n",
       "7                  BOOZ-ALLEN HAMILTON Inc\n",
       "8         AFX Tech Group International Inc\n",
       "9                                  CTB Inc"
      ]
     },
     "execution_count": 10,
     "metadata": {},
     "output_type": "execute_result"
    }
   ],
   "source": [
    "patent_holders_data = filter_by_string(patent_holders_data, string = 'Inc', column_name = 'patent_holders')\n",
    "print(patent_holders_data.shape)\n",
    "patent_holders_data.head(10)"
   ]
  },
  {
   "cell_type": "code",
   "execution_count": 11,
   "id": "f8fb382f-45bf-43bb-b1fb-9f4344ea11ff",
   "metadata": {},
   "outputs": [
    {
     "name": "stdout",
     "output_type": "stream",
     "text": [
      "(42275, 1)\n"
     ]
    },
    {
     "data": {
      "text/html": [
       "<div>\n",
       "<style scoped>\n",
       "    .dataframe tbody tr th:only-of-type {\n",
       "        vertical-align: middle;\n",
       "    }\n",
       "\n",
       "    .dataframe tbody tr th {\n",
       "        vertical-align: top;\n",
       "    }\n",
       "\n",
       "    .dataframe thead th {\n",
       "        text-align: right;\n",
       "    }\n",
       "</style>\n",
       "<table border=\"1\" class=\"dataframe\">\n",
       "  <thead>\n",
       "    <tr style=\"text-align: right;\">\n",
       "      <th></th>\n",
       "      <th>org_names</th>\n",
       "    </tr>\n",
       "  </thead>\n",
       "  <tbody>\n",
       "    <tr>\n",
       "      <th>0</th>\n",
       "      <td>03sl industries inc</td>\n",
       "    </tr>\n",
       "    <tr>\n",
       "      <th>1</th>\n",
       "      <td>101 outdoors inc</td>\n",
       "    </tr>\n",
       "    <tr>\n",
       "      <th>2</th>\n",
       "      <td>10-20 services inc</td>\n",
       "    </tr>\n",
       "    <tr>\n",
       "      <th>3</th>\n",
       "      <td>10-31 inc</td>\n",
       "    </tr>\n",
       "    <tr>\n",
       "      <th>4</th>\n",
       "      <td>10-8 tactical inc</td>\n",
       "    </tr>\n",
       "    <tr>\n",
       "      <th>5</th>\n",
       "      <td>1105 media inc</td>\n",
       "    </tr>\n",
       "    <tr>\n",
       "      <th>6</th>\n",
       "      <td>1150018 ontario inc</td>\n",
       "    </tr>\n",
       "    <tr>\n",
       "      <th>7</th>\n",
       "      <td>11, inc</td>\n",
       "    </tr>\n",
       "    <tr>\n",
       "      <th>8</th>\n",
       "      <td>1220 exhibits, inc</td>\n",
       "    </tr>\n",
       "    <tr>\n",
       "      <th>9</th>\n",
       "      <td>132 group, inc</td>\n",
       "    </tr>\n",
       "  </tbody>\n",
       "</table>\n",
       "</div>"
      ],
      "text/plain": [
       "             org_names\n",
       "0  03sl industries inc\n",
       "1     101 outdoors inc\n",
       "2   10-20 services inc\n",
       "3            10-31 inc\n",
       "4    10-8 tactical inc\n",
       "5       1105 media inc\n",
       "6  1150018 ontario inc\n",
       "7              11, inc\n",
       "8   1220 exhibits, inc\n",
       "9       132 group, inc"
      ]
     },
     "execution_count": 11,
     "metadata": {},
     "output_type": "execute_result"
    }
   ],
   "source": [
    "org_names_data = filter_by_string(org_names_data, string = 'inc', column_name = 'org_names')\n",
    "print(org_names_data.shape)\n",
    "org_names_data.head(10)"
   ]
  },
  {
   "cell_type": "markdown",
   "id": "787886f9-84fd-4c49-b8b3-a8e3c33db253",
   "metadata": {},
   "source": [
    "# 4. Apply pruning methods and find the matching values"
   ]
  },
  {
   "cell_type": "code",
   "execution_count": 12,
   "id": "f489089d-125b-4b05-a553-dd3f33b85302",
   "metadata": {
    "tags": []
   },
   "outputs": [],
   "source": [
    "final_result = []\n",
    "patent_holders_data_list = patent_holders_data['patent_holders'].tolist()\n",
    "org_names_data_list = org_names_data['org_names'].tolist()\n",
    "\n",
    "for index in range(len(patent_holders_data_list)):\n",
    "    \n",
    "    org_names_data_list = pruning_by_word_count(patent_holders_data_list, org_names_data_list, source_data_index = index, threshold = 0.1)\n",
    "    \n",
    "    # if we would like to strict/loose the word size, simply change the parameter word_size_width.\n",
    "    target_data_list_after_pruning_by_word_size = pruning_by_word_size(patent_holders_data_list, org_names_data_list, source_data_index = index, word_size_width = 1)\n",
    "    \n",
    "    # if you would like to strict/loose the prefix filtering, simply change the parameters start_letter_index and end_letter_index.\n",
    "    final_target_data_list = pruning_by_prefix_filtering(patent_holders_data_list, target_data_list_after_pruning_by_word_size, source_data_index = index, start_letter_index = 0, end_letter_index = 2)\n",
    "    \n",
    "    # if you would like to change the threshould, similarity measure and tokenize method, simply change the parameter threshold_value, similarity_measure, and word_token and declaring them before consume them.\n",
    "    matching_value_list = find_matching_values(patent_holders_data_list, final_target_data_list, source_data_index = index, threshold_value = 0.5, similarity_measure = jac, word_token = ws_tok)\n",
    "    \n",
    "    # join matching values for each city\n",
    "    final_result.append(' || '.join(matching_value_list))"
   ]
  },
  {
   "cell_type": "code",
   "execution_count": 13,
   "id": "3d3250dd-5e63-47d4-84d4-100a7253e66c",
   "metadata": {},
   "outputs": [
    {
     "data": {
      "text/plain": [
       "['macom technology solutions holdings inc || macom technology solutions inc',\n",
       " 'confident technologies inc',\n",
       " '',\n",
       " 'specialty manufacturing inc',\n",
       " 'bell helicopter michigan inc || bell helicopter textron inc || bell helicopter textron, inc',\n",
       " 'autodesk inc',\n",
       " 'alert logic inc',\n",
       " 'booz-allen and hamilton inc || booz-allen hamilton inc',\n",
       " 'afx tech group international inc',\n",
       " 'ctb inc']"
      ]
     },
     "execution_count": 13,
     "metadata": {},
     "output_type": "execute_result"
    }
   ],
   "source": [
    "final_result[0:10]"
   ]
  },
  {
   "cell_type": "markdown",
   "id": "222dc64b-7792-423d-9fc6-b827eca5006a",
   "metadata": {},
   "source": [
    "# 5. Concate dataframes"
   ]
  },
  {
   "cell_type": "code",
   "execution_count": 14,
   "id": "c000a6e0-bb77-44e4-ade7-2999f35174a1",
   "metadata": {},
   "outputs": [
    {
     "data": {
      "text/html": [
       "<div>\n",
       "<style scoped>\n",
       "    .dataframe tbody tr th:only-of-type {\n",
       "        vertical-align: middle;\n",
       "    }\n",
       "\n",
       "    .dataframe tbody tr th {\n",
       "        vertical-align: top;\n",
       "    }\n",
       "\n",
       "    .dataframe thead th {\n",
       "        text-align: right;\n",
       "    }\n",
       "</style>\n",
       "<table border=\"1\" class=\"dataframe\">\n",
       "  <thead>\n",
       "    <tr style=\"text-align: right;\">\n",
       "      <th></th>\n",
       "      <th>organization_name</th>\n",
       "    </tr>\n",
       "  </thead>\n",
       "  <tbody>\n",
       "    <tr>\n",
       "      <th>0</th>\n",
       "      <td>MACOM Technology Solutions Holdings Inc</td>\n",
       "    </tr>\n",
       "    <tr>\n",
       "      <th>1</th>\n",
       "      <td>CONFIDENT TECHNOLOGIES Inc</td>\n",
       "    </tr>\n",
       "    <tr>\n",
       "      <th>2</th>\n",
       "      <td>Bitsysoft Technology Inc</td>\n",
       "    </tr>\n",
       "    <tr>\n",
       "      <th>3</th>\n",
       "      <td>Specialty Manufacturing Inc</td>\n",
       "    </tr>\n",
       "    <tr>\n",
       "      <th>4</th>\n",
       "      <td>Bell Helicopter Michigan Inc</td>\n",
       "    </tr>\n",
       "    <tr>\n",
       "      <th>5</th>\n",
       "      <td>Autodesk Inc</td>\n",
       "    </tr>\n",
       "    <tr>\n",
       "      <th>6</th>\n",
       "      <td>Alert Logic Inc</td>\n",
       "    </tr>\n",
       "    <tr>\n",
       "      <th>7</th>\n",
       "      <td>BOOZ-ALLEN HAMILTON Inc</td>\n",
       "    </tr>\n",
       "    <tr>\n",
       "      <th>8</th>\n",
       "      <td>AFX Tech Group International Inc</td>\n",
       "    </tr>\n",
       "    <tr>\n",
       "      <th>9</th>\n",
       "      <td>CTB Inc</td>\n",
       "    </tr>\n",
       "  </tbody>\n",
       "</table>\n",
       "</div>"
      ],
      "text/plain": [
       "                         organization_name\n",
       "0  MACOM Technology Solutions Holdings Inc\n",
       "1               CONFIDENT TECHNOLOGIES Inc\n",
       "2                 Bitsysoft Technology Inc\n",
       "3              Specialty Manufacturing Inc\n",
       "4             Bell Helicopter Michigan Inc\n",
       "5                             Autodesk Inc\n",
       "6                          Alert Logic Inc\n",
       "7                  BOOZ-ALLEN HAMILTON Inc\n",
       "8         AFX Tech Group International Inc\n",
       "9                                  CTB Inc"
      ]
     },
     "execution_count": 14,
     "metadata": {},
     "output_type": "execute_result"
    }
   ],
   "source": [
    "df1 = pd.DataFrame(patent_holders_data_list)\n",
    "df1.columns = ['organization_name']\n",
    "df1.head(10)"
   ]
  },
  {
   "cell_type": "code",
   "execution_count": 15,
   "id": "f5377e1f-04fb-4c2e-948b-e1a5f65c9ad3",
   "metadata": {},
   "outputs": [
    {
     "data": {
      "text/html": [
       "<div>\n",
       "<style scoped>\n",
       "    .dataframe tbody tr th:only-of-type {\n",
       "        vertical-align: middle;\n",
       "    }\n",
       "\n",
       "    .dataframe tbody tr th {\n",
       "        vertical-align: top;\n",
       "    }\n",
       "\n",
       "    .dataframe thead th {\n",
       "        text-align: right;\n",
       "    }\n",
       "</style>\n",
       "<table border=\"1\" class=\"dataframe\">\n",
       "  <thead>\n",
       "    <tr style=\"text-align: right;\">\n",
       "      <th></th>\n",
       "      <th>org_name</th>\n",
       "    </tr>\n",
       "  </thead>\n",
       "  <tbody>\n",
       "    <tr>\n",
       "      <th>0</th>\n",
       "      <td>macom technology solutions holdings inc || mac...</td>\n",
       "    </tr>\n",
       "    <tr>\n",
       "      <th>1</th>\n",
       "      <td>confident technologies inc</td>\n",
       "    </tr>\n",
       "    <tr>\n",
       "      <th>2</th>\n",
       "      <td></td>\n",
       "    </tr>\n",
       "    <tr>\n",
       "      <th>3</th>\n",
       "      <td>specialty manufacturing inc</td>\n",
       "    </tr>\n",
       "    <tr>\n",
       "      <th>4</th>\n",
       "      <td>bell helicopter michigan inc || bell helicopte...</td>\n",
       "    </tr>\n",
       "    <tr>\n",
       "      <th>5</th>\n",
       "      <td>autodesk inc</td>\n",
       "    </tr>\n",
       "    <tr>\n",
       "      <th>6</th>\n",
       "      <td>alert logic inc</td>\n",
       "    </tr>\n",
       "    <tr>\n",
       "      <th>7</th>\n",
       "      <td>booz-allen and hamilton inc || booz-allen hami...</td>\n",
       "    </tr>\n",
       "    <tr>\n",
       "      <th>8</th>\n",
       "      <td>afx tech group international inc</td>\n",
       "    </tr>\n",
       "    <tr>\n",
       "      <th>9</th>\n",
       "      <td>ctb inc</td>\n",
       "    </tr>\n",
       "  </tbody>\n",
       "</table>\n",
       "</div>"
      ],
      "text/plain": [
       "                                            org_name\n",
       "0  macom technology solutions holdings inc || mac...\n",
       "1                         confident technologies inc\n",
       "2                                                   \n",
       "3                        specialty manufacturing inc\n",
       "4  bell helicopter michigan inc || bell helicopte...\n",
       "5                                       autodesk inc\n",
       "6                                    alert logic inc\n",
       "7  booz-allen and hamilton inc || booz-allen hami...\n",
       "8                   afx tech group international inc\n",
       "9                                            ctb inc"
      ]
     },
     "execution_count": 15,
     "metadata": {},
     "output_type": "execute_result"
    }
   ],
   "source": [
    "df2 = pd.DataFrame(final_result)\n",
    "df2.columns = ['org_name']\n",
    "df2.head(10)"
   ]
  },
  {
   "cell_type": "code",
   "execution_count": 16,
   "id": "3484a837-f67d-4ece-b9a6-5e1fbbcc610f",
   "metadata": {},
   "outputs": [
    {
     "data": {
      "text/html": [
       "<div>\n",
       "<style scoped>\n",
       "    .dataframe tbody tr th:only-of-type {\n",
       "        vertical-align: middle;\n",
       "    }\n",
       "\n",
       "    .dataframe tbody tr th {\n",
       "        vertical-align: top;\n",
       "    }\n",
       "\n",
       "    .dataframe thead th {\n",
       "        text-align: right;\n",
       "    }\n",
       "</style>\n",
       "<table border=\"1\" class=\"dataframe\">\n",
       "  <thead>\n",
       "    <tr style=\"text-align: right;\">\n",
       "      <th></th>\n",
       "      <th>organization_name</th>\n",
       "      <th>org_name</th>\n",
       "    </tr>\n",
       "  </thead>\n",
       "  <tbody>\n",
       "    <tr>\n",
       "      <th>0</th>\n",
       "      <td>MACOM Technology Solutions Holdings Inc</td>\n",
       "      <td>macom technology solutions holdings inc || mac...</td>\n",
       "    </tr>\n",
       "    <tr>\n",
       "      <th>1</th>\n",
       "      <td>CONFIDENT TECHNOLOGIES Inc</td>\n",
       "      <td>confident technologies inc</td>\n",
       "    </tr>\n",
       "    <tr>\n",
       "      <th>2</th>\n",
       "      <td>Bitsysoft Technology Inc</td>\n",
       "      <td></td>\n",
       "    </tr>\n",
       "    <tr>\n",
       "      <th>3</th>\n",
       "      <td>Specialty Manufacturing Inc</td>\n",
       "      <td>specialty manufacturing inc</td>\n",
       "    </tr>\n",
       "    <tr>\n",
       "      <th>4</th>\n",
       "      <td>Bell Helicopter Michigan Inc</td>\n",
       "      <td>bell helicopter michigan inc || bell helicopte...</td>\n",
       "    </tr>\n",
       "    <tr>\n",
       "      <th>5</th>\n",
       "      <td>Autodesk Inc</td>\n",
       "      <td>autodesk inc</td>\n",
       "    </tr>\n",
       "    <tr>\n",
       "      <th>6</th>\n",
       "      <td>Alert Logic Inc</td>\n",
       "      <td>alert logic inc</td>\n",
       "    </tr>\n",
       "    <tr>\n",
       "      <th>7</th>\n",
       "      <td>BOOZ-ALLEN HAMILTON Inc</td>\n",
       "      <td>booz-allen and hamilton inc || booz-allen hami...</td>\n",
       "    </tr>\n",
       "    <tr>\n",
       "      <th>8</th>\n",
       "      <td>AFX Tech Group International Inc</td>\n",
       "      <td>afx tech group international inc</td>\n",
       "    </tr>\n",
       "    <tr>\n",
       "      <th>9</th>\n",
       "      <td>CTB Inc</td>\n",
       "      <td>ctb inc</td>\n",
       "    </tr>\n",
       "  </tbody>\n",
       "</table>\n",
       "</div>"
      ],
      "text/plain": [
       "                         organization_name  \\\n",
       "0  MACOM Technology Solutions Holdings Inc   \n",
       "1               CONFIDENT TECHNOLOGIES Inc   \n",
       "2                 Bitsysoft Technology Inc   \n",
       "3              Specialty Manufacturing Inc   \n",
       "4             Bell Helicopter Michigan Inc   \n",
       "5                             Autodesk Inc   \n",
       "6                          Alert Logic Inc   \n",
       "7                  BOOZ-ALLEN HAMILTON Inc   \n",
       "8         AFX Tech Group International Inc   \n",
       "9                                  CTB Inc   \n",
       "\n",
       "                                            org_name  \n",
       "0  macom technology solutions holdings inc || mac...  \n",
       "1                         confident technologies inc  \n",
       "2                                                     \n",
       "3                        specialty manufacturing inc  \n",
       "4  bell helicopter michigan inc || bell helicopte...  \n",
       "5                                       autodesk inc  \n",
       "6                                    alert logic inc  \n",
       "7  booz-allen and hamilton inc || booz-allen hami...  \n",
       "8                   afx tech group international inc  \n",
       "9                                            ctb inc  "
      ]
     },
     "execution_count": 16,
     "metadata": {},
     "output_type": "execute_result"
    }
   ],
   "source": [
    "f_column = df2['org_name']\n",
    "df1 = pd.concat([df1, f_column], axis = 1)\n",
    "df1.head(10)"
   ]
  },
  {
   "cell_type": "markdown",
   "id": "8164b3cd-4a02-4e61-a0cd-d7a1c16cbc43",
   "metadata": {},
   "source": [
    "# 6. Output table"
   ]
  },
  {
   "cell_type": "code",
   "execution_count": 17,
   "id": "3beda79b-575f-4f1a-ad42-6f8c9b8dab44",
   "metadata": {},
   "outputs": [
    {
     "data": {
      "text/html": [
       "<div>\n",
       "<style scoped>\n",
       "    .dataframe tbody tr th:only-of-type {\n",
       "        vertical-align: middle;\n",
       "    }\n",
       "\n",
       "    .dataframe tbody tr th {\n",
       "        vertical-align: top;\n",
       "    }\n",
       "\n",
       "    .dataframe thead th {\n",
       "        text-align: right;\n",
       "    }\n",
       "</style>\n",
       "<table border=\"1\" class=\"dataframe\">\n",
       "  <thead>\n",
       "    <tr style=\"text-align: right;\">\n",
       "      <th></th>\n",
       "      <th>organization_name</th>\n",
       "      <th>org_name</th>\n",
       "    </tr>\n",
       "  </thead>\n",
       "  <tbody>\n",
       "    <tr>\n",
       "      <th>0</th>\n",
       "      <td>MACOM Technology Solutions Holdings Inc</td>\n",
       "      <td>macom technology solutions holdings inc || mac...</td>\n",
       "    </tr>\n",
       "    <tr>\n",
       "      <th>1</th>\n",
       "      <td>CONFIDENT TECHNOLOGIES Inc</td>\n",
       "      <td>confident technologies inc</td>\n",
       "    </tr>\n",
       "    <tr>\n",
       "      <th>2</th>\n",
       "      <td>Bitsysoft Technology Inc</td>\n",
       "      <td></td>\n",
       "    </tr>\n",
       "    <tr>\n",
       "      <th>3</th>\n",
       "      <td>Specialty Manufacturing Inc</td>\n",
       "      <td>specialty manufacturing inc</td>\n",
       "    </tr>\n",
       "    <tr>\n",
       "      <th>4</th>\n",
       "      <td>Bell Helicopter Michigan Inc</td>\n",
       "      <td>bell helicopter michigan inc || bell helicopte...</td>\n",
       "    </tr>\n",
       "    <tr>\n",
       "      <th>5</th>\n",
       "      <td>Autodesk Inc</td>\n",
       "      <td>autodesk inc</td>\n",
       "    </tr>\n",
       "    <tr>\n",
       "      <th>6</th>\n",
       "      <td>Alert Logic Inc</td>\n",
       "      <td>alert logic inc</td>\n",
       "    </tr>\n",
       "    <tr>\n",
       "      <th>7</th>\n",
       "      <td>BOOZ-ALLEN HAMILTON Inc</td>\n",
       "      <td>booz-allen and hamilton inc || booz-allen hami...</td>\n",
       "    </tr>\n",
       "    <tr>\n",
       "      <th>8</th>\n",
       "      <td>AFX Tech Group International Inc</td>\n",
       "      <td>afx tech group international inc</td>\n",
       "    </tr>\n",
       "    <tr>\n",
       "      <th>9</th>\n",
       "      <td>CTB Inc</td>\n",
       "      <td>ctb inc</td>\n",
       "    </tr>\n",
       "  </tbody>\n",
       "</table>\n",
       "</div>"
      ],
      "text/plain": [
       "                         organization_name  \\\n",
       "0  MACOM Technology Solutions Holdings Inc   \n",
       "1               CONFIDENT TECHNOLOGIES Inc   \n",
       "2                 Bitsysoft Technology Inc   \n",
       "3              Specialty Manufacturing Inc   \n",
       "4             Bell Helicopter Michigan Inc   \n",
       "5                             Autodesk Inc   \n",
       "6                          Alert Logic Inc   \n",
       "7                  BOOZ-ALLEN HAMILTON Inc   \n",
       "8         AFX Tech Group International Inc   \n",
       "9                                  CTB Inc   \n",
       "\n",
       "                                            org_name  \n",
       "0  macom technology solutions holdings inc || mac...  \n",
       "1                         confident technologies inc  \n",
       "2                                                     \n",
       "3                        specialty manufacturing inc  \n",
       "4  bell helicopter michigan inc || bell helicopte...  \n",
       "5                                       autodesk inc  \n",
       "6                                    alert logic inc  \n",
       "7  booz-allen and hamilton inc || booz-allen hami...  \n",
       "8                   afx tech group international inc  \n",
       "9                                            ctb inc  "
      ]
     },
     "execution_count": 17,
     "metadata": {},
     "output_type": "execute_result"
    }
   ],
   "source": [
    "df1.head(10)"
   ]
  },
  {
   "cell_type": "markdown",
   "id": "f50a9d22-87f4-484a-95f4-9f9cee4e6537",
   "metadata": {},
   "source": [
    "# 7. Time complexity"
   ]
  },
  {
   "cell_type": "markdown",
   "id": "c83041c0-2b1b-4be2-bb14-f40fe52eb64e",
   "metadata": {},
   "source": [
    "## The time complexity after filtering and pruning is around 5 minutes. If we loose the constraints, it may take more time."
   ]
  },
  {
   "cell_type": "code",
   "execution_count": null,
   "id": "f84cae5d-1c4a-4e90-9c06-eeece355b0a9",
   "metadata": {},
   "outputs": [],
   "source": []
  }
 ],
 "metadata": {
  "kernelspec": {
   "display_name": "Python 3",
   "language": "python",
   "name": "python3"
  },
  "language_info": {
   "codemirror_mode": {
    "name": "ipython",
    "version": 3
   },
   "file_extension": ".py",
   "mimetype": "text/x-python",
   "name": "python",
   "nbconvert_exporter": "python",
   "pygments_lexer": "ipython3",
   "version": "3.8.8"
  },
  "nbTranslate": {
   "displayLangs": [
    "*"
   ],
   "hotkey": "alt-t",
   "langInMainMenu": true,
   "sourceLang": "en",
   "targetLang": "fr",
   "useGoogleTranslate": true
  },
  "toc": {
   "base_numbering": 1,
   "nav_menu": {},
   "number_sections": false,
   "sideBar": true,
   "skip_h1_title": false,
   "title_cell": "Table of Contents",
   "title_sidebar": "Contents",
   "toc_cell": true,
   "toc_position": {},
   "toc_section_display": true,
   "toc_window_display": false
  },
  "varInspector": {
   "cols": {
    "lenName": 16,
    "lenType": 16,
    "lenVar": 40
   },
   "kernels_config": {
    "python": {
     "delete_cmd_postfix": "",
     "delete_cmd_prefix": "del ",
     "library": "var_list.py",
     "varRefreshCmd": "print(var_dic_list())"
    },
    "r": {
     "delete_cmd_postfix": ") ",
     "delete_cmd_prefix": "rm(",
     "library": "var_list.r",
     "varRefreshCmd": "cat(var_dic_list()) "
    }
   },
   "types_to_exclude": [
    "module",
    "function",
    "builtin_function_or_method",
    "instance",
    "_Feature"
   ],
   "window_display": false
  }
 },
 "nbformat": 4,
 "nbformat_minor": 5
}
