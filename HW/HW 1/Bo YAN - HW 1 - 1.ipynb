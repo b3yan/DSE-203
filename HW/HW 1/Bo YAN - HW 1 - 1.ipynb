{
 "cells": [
  {
   "cell_type": "markdown",
   "id": "e73ea1bb",
   "metadata": {
    "toc": true
   },
   "source": [
    "<h1>Table of Contents<span class=\"tocSkip\"></span></h1>\n",
    "<div class=\"toc\"><ul class=\"toc-item\"><li><span><a href=\"#Bo-YAN---HW-1-Question-1\" data-toc-modified-id=\"Bo-YAN---HW-1-Question-1-1\">Bo YAN - HW 1 Question 1</a></span><ul class=\"toc-item\"><li><span><a href=\"#Using-the-Patentholders.csv-data-set,-find-names-that-match-the-following-strings\" data-toc-modified-id=\"Using-the-Patentholders.csv-data-set,-find-names-that-match-the-following-strings-1.1\">Using the Patentholders.csv data set, find names that match the following strings</a></span></li></ul></li><li><span><a href=\"#1.-Create-functions-and-decalrations\" data-toc-modified-id=\"1.-Create-functions-and-decalrations-2\">1. Create functions and decalrations</a></span><ul class=\"toc-item\"><li><span><a href=\"#1.1---Functions\" data-toc-modified-id=\"1.1---Functions-2.1\">1.1 - Functions</a></span></li><li><span><a href=\"#1.2---Declarations\" data-toc-modified-id=\"1.2---Declarations-2.2\">1.2 - Declarations</a></span></li></ul></li><li><span><a href=\"#2(a)-&quot;United-States-Navy&quot;\" data-toc-modified-id=\"2(a)-&quot;United-States-Navy&quot;-3\">2(a) \"United States Navy\"</a></span></li><li><span><a href=\"#2(b)-&quot;IBM&quot;\" data-toc-modified-id=\"2(b)-&quot;IBM&quot;-4\">2(b) \"IBM\"</a></span></li><li><span><a href=\"#2(c)-&quot;Univ.-of-Calif.&quot;\" data-toc-modified-id=\"2(c)-&quot;Univ.-of-Calif.&quot;-5\">2(c) \"Univ. of Calif.\"</a></span></li></ul></div>"
   ]
  },
  {
   "cell_type": "markdown",
   "id": "b35d51bc-4566-4f54-8a6a-3c52d2f7fb1f",
   "metadata": {},
   "source": [
    "# Bo YAN - HW 1 Question 1\n",
    "## Using the Patentholders.csv data set, find names that match the following strings\n",
    "\n",
    "(a) \"United States Navy\"\n",
    "\n",
    "(b) \"IBM\"\n",
    "\n",
    "(c) \"Univ. of Calif.\"\n"
   ]
  },
  {
   "cell_type": "code",
   "execution_count": 1,
   "id": "772dba5f-b914-4be0-85e7-779a4123b5f0",
   "metadata": {},
   "outputs": [],
   "source": [
    "import py_stringmatching as sm \n",
    "import pandas as pd\n",
    "import numpy as np \n",
    "from sklearn.metrics import precision_score, recall_score\n",
    "from collections import Counter\n",
    "import re"
   ]
  },
  {
   "cell_type": "markdown",
   "id": "e53087c7-6579-444a-be8f-c8855f121ece",
   "metadata": {},
   "source": [
    "# 1. Create functions and decalrations"
   ]
  },
  {
   "cell_type": "markdown",
   "id": "9e006b92-d117-4658-ae31-9acc1f90ca1f",
   "metadata": {},
   "source": [
    "## 1.1 - Functions"
   ]
  },
  {
   "cell_type": "code",
   "execution_count": 2,
   "id": "962554e6-e25c-4270-ba40-996eb5c96a36",
   "metadata": {},
   "outputs": [],
   "source": [
    "def load_data(data_source, column_name):\n",
    "    df_name = pd.read_csv(data_source, header = None, names = [column_name])\n",
    "    df_name.drop_duplicates(subset = column_name, inplace = True)\n",
    "    return df_name"
   ]
  },
  {
   "cell_type": "code",
   "execution_count": 3,
   "id": "bc2793be-e0ad-41b3-abd0-77cb6bf1325f",
   "metadata": {
    "tags": []
   },
   "outputs": [],
   "source": [
    "def pruning_by_string(data, column_name, string):\n",
    "    data = data[data[column_name].str.contains(string, case = False)]\n",
    "    data.reset_index(drop = True, inplace = True)\n",
    "    return data"
   ]
  },
  {
   "cell_type": "code",
   "execution_count": 4,
   "id": "97050f45-4cc8-4747-91d1-6e8133bbb0a2",
   "metadata": {},
   "outputs": [],
   "source": [
    "def get_tokens(data, column_name):\n",
    "    patent_hoders = data[column_name].to_list()\n",
    "    ids = data.index.to_list()\n",
    "    id2gid = {}\n",
    "    id2wstoken = {}\n",
    "    id2qg3tokens = {}\n",
    "    for i in range(len(patent_hoders)):\n",
    "        id2wstoken[ids[i]] = ws_tok.tokenize(patent_hoders[i])\n",
    "        id2qg3tokens[ids[i]] = qg3_tok.tokenize(patent_hoders[i])    \n",
    "    return id2wstoken, id2qg3tokens, ids, id2gid"
   ]
  },
  {
   "cell_type": "code",
   "execution_count": 5,
   "id": "6978139d-a219-4750-a08c-00543153a62e",
   "metadata": {},
   "outputs": [],
   "source": [
    "def match_values_to_group(id2wstoken, index_list, similarity_measure, threshould):\n",
    "    id2pgid = {}\n",
    "    pgid2ids = {}\n",
    "    crt_gid = 0\n",
    "    # for each patent holder, if it matches with any patent holder, put them in the same group \n",
    "    for crt_id in index_list:\n",
    "        max_sim = 0\n",
    "        best_gid = crt_gid\n",
    "        crt_token = id2wstoken[crt_id]\n",
    "        for processed_id in id2pgid:\n",
    "            processed_token = id2wstoken[processed_id]\n",
    "            sim = similarity_measure.get_sim_score(processed_token, crt_token)\n",
    "            if sim > max_sim:\n",
    "                max_sim = sim\n",
    "                best_gid = id2pgid[processed_id]\n",
    "        if max_sim > threshould:\n",
    "            id2pgid[crt_id] = best_gid\n",
    "            pgid2ids[best_gid].append(crt_id)\n",
    "        else:\n",
    "            id2pgid[crt_id] = crt_gid\n",
    "            pgid2ids[crt_gid] = [crt_id]\n",
    "            crt_gid = crt_gid + 1    \n",
    "    \n",
    "    return pgid2ids"
   ]
  },
  {
   "cell_type": "code",
   "execution_count": 6,
   "id": "1f07adb7-61db-41eb-b146-315c11d8c138",
   "metadata": {},
   "outputs": [],
   "source": [
    "def find_matching_values(data, pgid2ids, target_string, threshould, word_token):\n",
    "    final_list = []\n",
    "    for i in range(len(pgid2ids)):\n",
    "        for p_id in pgid2ids[i]:\n",
    "            score = jac.get_sim_score(word_token.tokenize(data.patent_holders[p_id]), word_token.tokenize(target_string))\n",
    "            if score > threshould:\n",
    "                final_list.append(data.patent_holders[p_id])\n",
    "    return final_list"
   ]
  },
  {
   "cell_type": "markdown",
   "id": "5e1b81c1-11cf-4ef8-b517-83d8dba9bff5",
   "metadata": {},
   "source": [
    "## 1.2 - Declarations"
   ]
  },
  {
   "cell_type": "code",
   "execution_count": 7,
   "id": "f2b9ffc8-fa80-4560-aa6d-d465a409ed7e",
   "metadata": {},
   "outputs": [],
   "source": [
    "# create a whitespace tokenizer\n",
    "ws_tok = sm.WhitespaceTokenizer()\n",
    "\n",
    "# create a qgram tokenizer using q = 3\n",
    "qg3_tok = sm.QgramTokenizer(qval = 3)"
   ]
  },
  {
   "cell_type": "code",
   "execution_count": 8,
   "id": "71162562-8e30-4276-9cb2-6fee943d456b",
   "metadata": {},
   "outputs": [],
   "source": [
    "# create a Jaccard similarity measure object\n",
    "jac = sm.Jaccard()\n",
    "\n",
    "# The Levenshtein measure treats the input strings as sequences of characters. Hence when using it we do not have to tokenize the two strings x and y.\n",
    "lev = sm.Levenshtein()\n",
    "\n",
    "# cosine distance\n",
    "cos =  sm.Cosine()\n",
    "\n",
    "# hamming distance\n",
    "ham = sm.HammingDistance()"
   ]
  },
  {
   "cell_type": "markdown",
   "id": "41040b39-b33f-4189-bed6-818274fbe992",
   "metadata": {},
   "source": [
    "# 2(a) \"United States Navy\""
   ]
  },
  {
   "cell_type": "code",
   "execution_count": 9,
   "id": "502aabd9-af37-481b-a9f5-4667f7e89ff6",
   "metadata": {},
   "outputs": [
    {
     "data": {
      "text/html": [
       "<div>\n",
       "<style scoped>\n",
       "    .dataframe tbody tr th:only-of-type {\n",
       "        vertical-align: middle;\n",
       "    }\n",
       "\n",
       "    .dataframe tbody tr th {\n",
       "        vertical-align: top;\n",
       "    }\n",
       "\n",
       "    .dataframe thead th {\n",
       "        text-align: right;\n",
       "    }\n",
       "</style>\n",
       "<table border=\"1\" class=\"dataframe\">\n",
       "  <thead>\n",
       "    <tr style=\"text-align: right;\">\n",
       "      <th></th>\n",
       "      <th>patent_holders</th>\n",
       "    </tr>\n",
       "  </thead>\n",
       "  <tbody>\n",
       "    <tr>\n",
       "      <th>0</th>\n",
       "      <td>Signify Holding BV</td>\n",
       "    </tr>\n",
       "    <tr>\n",
       "      <th>1</th>\n",
       "      <td>ThyssenKrupp Airport Systems SA</td>\n",
       "    </tr>\n",
       "    <tr>\n",
       "      <th>2</th>\n",
       "      <td>Eurenco</td>\n",
       "    </tr>\n",
       "    <tr>\n",
       "      <th>3</th>\n",
       "      <td>EI du Pont de Nemours and Co</td>\n",
       "    </tr>\n",
       "    <tr>\n",
       "      <th>4</th>\n",
       "      <td>TRIATEX INTERNATIONAL AG</td>\n",
       "    </tr>\n",
       "    <tr>\n",
       "      <th>5</th>\n",
       "      <td>THYSSENKRUPP TAILORED BLANKS GMBH, 47139 DUISB...</td>\n",
       "    </tr>\n",
       "    <tr>\n",
       "      <th>6</th>\n",
       "      <td>Howe Wayne R</td>\n",
       "    </tr>\n",
       "    <tr>\n",
       "      <th>7</th>\n",
       "      <td>Carbone Lorraine Composants</td>\n",
       "    </tr>\n",
       "    <tr>\n",
       "      <th>8</th>\n",
       "      <td>Google LLC</td>\n",
       "    </tr>\n",
       "    <tr>\n",
       "      <th>9</th>\n",
       "      <td>MACOM Technology Solutions Holdings Inc</td>\n",
       "    </tr>\n",
       "  </tbody>\n",
       "</table>\n",
       "</div>"
      ],
      "text/plain": [
       "                                      patent_holders\n",
       "0                                 Signify Holding BV\n",
       "1                    ThyssenKrupp Airport Systems SA\n",
       "2                                            Eurenco\n",
       "3                       EI du Pont de Nemours and Co\n",
       "4                           TRIATEX INTERNATIONAL AG\n",
       "5  THYSSENKRUPP TAILORED BLANKS GMBH, 47139 DUISB...\n",
       "6                                       Howe Wayne R\n",
       "7                        Carbone Lorraine Composants\n",
       "8                                         Google LLC\n",
       "9            MACOM Technology Solutions Holdings Inc"
      ]
     },
     "execution_count": 9,
     "metadata": {},
     "output_type": "execute_result"
    }
   ],
   "source": [
    "# load data_a\n",
    "data_a = load_data(data_source = 'Patentholders.csv', column_name = 'patent_holders')\n",
    "data_a.head(10)"
   ]
  },
  {
   "cell_type": "code",
   "execution_count": 10,
   "id": "22ddc6bf-a2b9-48cc-bb77-960e28ff9e0e",
   "metadata": {},
   "outputs": [
    {
     "name": "stdout",
     "output_type": "stream",
     "text": [
      "(385, 1)\n"
     ]
    },
    {
     "data": {
      "text/html": [
       "<div>\n",
       "<style scoped>\n",
       "    .dataframe tbody tr th:only-of-type {\n",
       "        vertical-align: middle;\n",
       "    }\n",
       "\n",
       "    .dataframe tbody tr th {\n",
       "        vertical-align: top;\n",
       "    }\n",
       "\n",
       "    .dataframe thead th {\n",
       "        text-align: right;\n",
       "    }\n",
       "</style>\n",
       "<table border=\"1\" class=\"dataframe\">\n",
       "  <thead>\n",
       "    <tr style=\"text-align: right;\">\n",
       "      <th></th>\n",
       "      <th>patent_holders</th>\n",
       "    </tr>\n",
       "  </thead>\n",
       "  <tbody>\n",
       "    <tr>\n",
       "      <th>0</th>\n",
       "      <td>NAVY SECRETARY OF UNITED STATE</td>\n",
       "    </tr>\n",
       "    <tr>\n",
       "      <th>1</th>\n",
       "      <td>NAVY SECRETARY OF</td>\n",
       "    </tr>\n",
       "    <tr>\n",
       "      <th>2</th>\n",
       "      <td>UNTIED STATES OF AMERICA NAVY THE, Secretary of</td>\n",
       "    </tr>\n",
       "    <tr>\n",
       "      <th>3</th>\n",
       "      <td>NAVY GOVERNMENT OR United States, THE, Secreta...</td>\n",
       "    </tr>\n",
       "    <tr>\n",
       "      <th>4</th>\n",
       "      <td>SECRETARY OF NAVY AS REPRESENTED BY UNITED STA...</td>\n",
       "    </tr>\n",
       "    <tr>\n",
       "      <th>5</th>\n",
       "      <td>NAVY UNITED STATES THE, Secretary of</td>\n",
       "    </tr>\n",
       "    <tr>\n",
       "      <th>6</th>\n",
       "      <td>UNITED STATES DEPARTMENT OF THE NAVY</td>\n",
       "    </tr>\n",
       "    <tr>\n",
       "      <th>7</th>\n",
       "      <td>U S NAVY NAVY, Secretary of</td>\n",
       "    </tr>\n",
       "    <tr>\n",
       "      <th>8</th>\n",
       "      <td>NAVY ISLAND PLYWOOD Inc</td>\n",
       "    </tr>\n",
       "    <tr>\n",
       "      <th>9</th>\n",
       "      <td>UNTIED STATES OF AMERICA REPRESENTED BY SECRET...</td>\n",
       "    </tr>\n",
       "  </tbody>\n",
       "</table>\n",
       "</div>"
      ],
      "text/plain": [
       "                                      patent_holders\n",
       "0                     NAVY SECRETARY OF UNITED STATE\n",
       "1                                  NAVY SECRETARY OF\n",
       "2    UNTIED STATES OF AMERICA NAVY THE, Secretary of\n",
       "3  NAVY GOVERNMENT OR United States, THE, Secreta...\n",
       "4  SECRETARY OF NAVY AS REPRESENTED BY UNITED STA...\n",
       "5               NAVY UNITED STATES THE, Secretary of\n",
       "6               UNITED STATES DEPARTMENT OF THE NAVY\n",
       "7                        U S NAVY NAVY, Secretary of\n",
       "8                            NAVY ISLAND PLYWOOD Inc\n",
       "9  UNTIED STATES OF AMERICA REPRESENTED BY SECRET..."
      ]
     },
     "execution_count": 10,
     "metadata": {},
     "output_type": "execute_result"
    }
   ],
   "source": [
    "data_a = pruning_by_string(data = data_a, column_name = 'patent_holders', string = 'navy')\n",
    "print(data_a.shape)\n",
    "data_a.head(10)"
   ]
  },
  {
   "cell_type": "code",
   "execution_count": 11,
   "id": "03e5ed93-e4dd-4492-95f3-a358d451af39",
   "metadata": {
    "tags": []
   },
   "outputs": [],
   "source": [
    "a_id2wstoken, a_id2qg3tokens, a_ids, a_id2gid = get_tokens(data = data_a, column_name = 'patent_holders')"
   ]
  },
  {
   "cell_type": "code",
   "execution_count": 12,
   "id": "30354b0d-53fa-4ec9-8677-28bf346cbb42",
   "metadata": {},
   "outputs": [],
   "source": [
    "a_pgid2ids = match_values_to_group(a_id2wstoken, index_list = a_ids, similarity_measure = jac, threshould = 0.5)"
   ]
  },
  {
   "cell_type": "code",
   "execution_count": 13,
   "id": "72b436a2-ab71-4108-94e0-ffcf603b6747",
   "metadata": {},
   "outputs": [
    {
     "data": {
      "text/plain": [
       "['Navy United States Of American Re By Sec Of',\n",
       " 'United States Department Of Navy',\n",
       " 'United States, As Represented By Sercretary Of Navy',\n",
       " 'United States, Navy Washington Dc (us), Secretary of']"
      ]
     },
     "execution_count": 13,
     "metadata": {},
     "output_type": "execute_result"
    }
   ],
   "source": [
    "a_matched_list = find_matching_values(data = data_a, pgid2ids = a_pgid2ids, target_string = 'United States Navy', threshould = 0.2, word_token = ws_tok)\n",
    "a_matched_list"
   ]
  },
  {
   "cell_type": "markdown",
   "id": "9148c17c-b503-48b7-afad-e1386fdd21e4",
   "metadata": {},
   "source": [
    "# 2(b) \"IBM\""
   ]
  },
  {
   "cell_type": "code",
   "execution_count": 14,
   "id": "db9d834e-1aa9-432c-8f45-78a5234bfdf2",
   "metadata": {},
   "outputs": [
    {
     "data": {
      "text/html": [
       "<div>\n",
       "<style scoped>\n",
       "    .dataframe tbody tr th:only-of-type {\n",
       "        vertical-align: middle;\n",
       "    }\n",
       "\n",
       "    .dataframe tbody tr th {\n",
       "        vertical-align: top;\n",
       "    }\n",
       "\n",
       "    .dataframe thead th {\n",
       "        text-align: right;\n",
       "    }\n",
       "</style>\n",
       "<table border=\"1\" class=\"dataframe\">\n",
       "  <thead>\n",
       "    <tr style=\"text-align: right;\">\n",
       "      <th></th>\n",
       "      <th>patent_holders</th>\n",
       "    </tr>\n",
       "  </thead>\n",
       "  <tbody>\n",
       "    <tr>\n",
       "      <th>0</th>\n",
       "      <td>Signify Holding BV</td>\n",
       "    </tr>\n",
       "    <tr>\n",
       "      <th>1</th>\n",
       "      <td>ThyssenKrupp Airport Systems SA</td>\n",
       "    </tr>\n",
       "    <tr>\n",
       "      <th>2</th>\n",
       "      <td>Eurenco</td>\n",
       "    </tr>\n",
       "    <tr>\n",
       "      <th>3</th>\n",
       "      <td>EI du Pont de Nemours and Co</td>\n",
       "    </tr>\n",
       "    <tr>\n",
       "      <th>4</th>\n",
       "      <td>TRIATEX INTERNATIONAL AG</td>\n",
       "    </tr>\n",
       "    <tr>\n",
       "      <th>5</th>\n",
       "      <td>THYSSENKRUPP TAILORED BLANKS GMBH, 47139 DUISB...</td>\n",
       "    </tr>\n",
       "    <tr>\n",
       "      <th>6</th>\n",
       "      <td>Howe Wayne R</td>\n",
       "    </tr>\n",
       "    <tr>\n",
       "      <th>7</th>\n",
       "      <td>Carbone Lorraine Composants</td>\n",
       "    </tr>\n",
       "    <tr>\n",
       "      <th>8</th>\n",
       "      <td>Google LLC</td>\n",
       "    </tr>\n",
       "    <tr>\n",
       "      <th>9</th>\n",
       "      <td>MACOM Technology Solutions Holdings Inc</td>\n",
       "    </tr>\n",
       "  </tbody>\n",
       "</table>\n",
       "</div>"
      ],
      "text/plain": [
       "                                      patent_holders\n",
       "0                                 Signify Holding BV\n",
       "1                    ThyssenKrupp Airport Systems SA\n",
       "2                                            Eurenco\n",
       "3                       EI du Pont de Nemours and Co\n",
       "4                           TRIATEX INTERNATIONAL AG\n",
       "5  THYSSENKRUPP TAILORED BLANKS GMBH, 47139 DUISB...\n",
       "6                                       Howe Wayne R\n",
       "7                        Carbone Lorraine Composants\n",
       "8                                         Google LLC\n",
       "9            MACOM Technology Solutions Holdings Inc"
      ]
     },
     "execution_count": 14,
     "metadata": {},
     "output_type": "execute_result"
    }
   ],
   "source": [
    "# load data_b\n",
    "data_b = load_data(data_source = 'Patentholders.csv', column_name = 'patent_holders')\n",
    "data_b.head(10)"
   ]
  },
  {
   "cell_type": "code",
   "execution_count": 15,
   "id": "ef33f1f1-ef6e-47f6-914a-3d3a42b53512",
   "metadata": {},
   "outputs": [
    {
     "name": "stdout",
     "output_type": "stream",
     "text": [
      "(330, 1)\n"
     ]
    },
    {
     "data": {
      "text/html": [
       "<div>\n",
       "<style scoped>\n",
       "    .dataframe tbody tr th:only-of-type {\n",
       "        vertical-align: middle;\n",
       "    }\n",
       "\n",
       "    .dataframe tbody tr th {\n",
       "        vertical-align: top;\n",
       "    }\n",
       "\n",
       "    .dataframe thead th {\n",
       "        text-align: right;\n",
       "    }\n",
       "</style>\n",
       "<table border=\"1\" class=\"dataframe\">\n",
       "  <thead>\n",
       "    <tr style=\"text-align: right;\">\n",
       "      <th></th>\n",
       "      <th>patent_holders</th>\n",
       "    </tr>\n",
       "  </thead>\n",
       "  <tbody>\n",
       "    <tr>\n",
       "      <th>0</th>\n",
       "      <td>iAd Gesellschaft fur informatik Automatisierun...</td>\n",
       "    </tr>\n",
       "    <tr>\n",
       "      <th>1</th>\n",
       "      <td>ioGenetics LLC</td>\n",
       "    </tr>\n",
       "    <tr>\n",
       "      <th>2</th>\n",
       "      <td>iBOSS Inc</td>\n",
       "    </tr>\n",
       "    <tr>\n",
       "      <th>3</th>\n",
       "      <td>iRobot Corp</td>\n",
       "    </tr>\n",
       "    <tr>\n",
       "      <th>4</th>\n",
       "      <td>inVia Robotics LLC</td>\n",
       "    </tr>\n",
       "    <tr>\n",
       "      <th>5</th>\n",
       "      <td>iovation Inc</td>\n",
       "    </tr>\n",
       "    <tr>\n",
       "      <th>6</th>\n",
       "      <td>iDevices LLC</td>\n",
       "    </tr>\n",
       "    <tr>\n",
       "      <th>7</th>\n",
       "      <td>Intellectual Property Holdings LLC</td>\n",
       "    </tr>\n",
       "    <tr>\n",
       "      <th>8</th>\n",
       "      <td>Is5 Communications Inc</td>\n",
       "    </tr>\n",
       "    <tr>\n",
       "      <th>9</th>\n",
       "      <td>Ionis Pharmaceuticals Inc</td>\n",
       "    </tr>\n",
       "  </tbody>\n",
       "</table>\n",
       "</div>"
      ],
      "text/plain": [
       "                                      patent_holders\n",
       "0  iAd Gesellschaft fur informatik Automatisierun...\n",
       "1                                     ioGenetics LLC\n",
       "2                                          iBOSS Inc\n",
       "3                                        iRobot Corp\n",
       "4                                 inVia Robotics LLC\n",
       "5                                       iovation Inc\n",
       "6                                       iDevices LLC\n",
       "7                 Intellectual Property Holdings LLC\n",
       "8                             Is5 Communications Inc\n",
       "9                          Ionis Pharmaceuticals Inc"
      ]
     },
     "execution_count": 15,
     "metadata": {},
     "output_type": "execute_result"
    }
   ],
   "source": [
    "data_b_test_1 = data_b[data_b['patent_holders'].str.startswith('i')]\n",
    "data_b_test_2 = data_b[data_b['patent_holders'].str.startswith('I')]\n",
    "\n",
    "frames = [data_b_test_1, data_b_test_2]\n",
    "\n",
    "data_b = pd.concat(frames)\n",
    "data_b.reset_index(drop = True, inplace = True)\n",
    "print(data_b.shape)\n",
    "data_b.head(10)"
   ]
  },
  {
   "cell_type": "code",
   "execution_count": 16,
   "id": "d6d12817-b876-49c0-97c3-c767876d9bef",
   "metadata": {},
   "outputs": [],
   "source": [
    "b_id2wstoken, b_id2qg3tokens, b_ids, b_id2gid = get_tokens(data = data_b, column_name = 'patent_holders')"
   ]
  },
  {
   "cell_type": "code",
   "execution_count": 17,
   "id": "0aa8db86-0d58-4ae1-a000-a00321bcabce",
   "metadata": {},
   "outputs": [],
   "source": [
    "b_pgid2ids = match_values_to_group(b_id2wstoken, index_list = b_ids, similarity_measure = cos, threshould = 0.5)"
   ]
  },
  {
   "cell_type": "code",
   "execution_count": 18,
   "id": "878ab216-ca0d-42f2-ad7a-ccca909c247e",
   "metadata": {},
   "outputs": [
    {
     "data": {
      "text/plain": [
       "['ITESM', 'International Business Machines Corp', 'IBM Canada Ltd']"
      ]
     },
     "execution_count": 18,
     "metadata": {},
     "output_type": "execute_result"
    }
   ],
   "source": [
    "b_matched_list_1 = find_matching_values(data = data_b, pgid2ids = b_pgid2ids, target_string = 'IBM', threshould = 0.15, word_token = qg3_tok)\n",
    "b_matched_list_1\n",
    "\n",
    "b_matched_list_2 = find_matching_values(data = data_b, pgid2ids = b_pgid2ids, target_string = 'International Business Machine', threshould = 0.6, word_token = qg3_tok)\n",
    "b_matched_list_2\n",
    "\n",
    "b_matched_list = list(set(b_matched_list_1 + b_matched_list_2))\n",
    "b_matched_list"
   ]
  },
  {
   "cell_type": "markdown",
   "id": "46750a5c-0b37-4a56-bc12-baf042b946b7",
   "metadata": {},
   "source": [
    "# 2(c) \"Univ. of Calif.\""
   ]
  },
  {
   "cell_type": "code",
   "execution_count": 19,
   "id": "d8b79bcc-2dac-4897-ad87-01548773feb2",
   "metadata": {},
   "outputs": [
    {
     "data": {
      "text/html": [
       "<div>\n",
       "<style scoped>\n",
       "    .dataframe tbody tr th:only-of-type {\n",
       "        vertical-align: middle;\n",
       "    }\n",
       "\n",
       "    .dataframe tbody tr th {\n",
       "        vertical-align: top;\n",
       "    }\n",
       "\n",
       "    .dataframe thead th {\n",
       "        text-align: right;\n",
       "    }\n",
       "</style>\n",
       "<table border=\"1\" class=\"dataframe\">\n",
       "  <thead>\n",
       "    <tr style=\"text-align: right;\">\n",
       "      <th></th>\n",
       "      <th>patent_holders</th>\n",
       "    </tr>\n",
       "  </thead>\n",
       "  <tbody>\n",
       "    <tr>\n",
       "      <th>0</th>\n",
       "      <td>Signify Holding BV</td>\n",
       "    </tr>\n",
       "    <tr>\n",
       "      <th>1</th>\n",
       "      <td>ThyssenKrupp Airport Systems SA</td>\n",
       "    </tr>\n",
       "    <tr>\n",
       "      <th>2</th>\n",
       "      <td>Eurenco</td>\n",
       "    </tr>\n",
       "    <tr>\n",
       "      <th>3</th>\n",
       "      <td>EI du Pont de Nemours and Co</td>\n",
       "    </tr>\n",
       "    <tr>\n",
       "      <th>4</th>\n",
       "      <td>TRIATEX INTERNATIONAL AG</td>\n",
       "    </tr>\n",
       "    <tr>\n",
       "      <th>5</th>\n",
       "      <td>THYSSENKRUPP TAILORED BLANKS GMBH, 47139 DUISB...</td>\n",
       "    </tr>\n",
       "    <tr>\n",
       "      <th>6</th>\n",
       "      <td>Howe Wayne R</td>\n",
       "    </tr>\n",
       "    <tr>\n",
       "      <th>7</th>\n",
       "      <td>Carbone Lorraine Composants</td>\n",
       "    </tr>\n",
       "    <tr>\n",
       "      <th>8</th>\n",
       "      <td>Google LLC</td>\n",
       "    </tr>\n",
       "    <tr>\n",
       "      <th>9</th>\n",
       "      <td>MACOM Technology Solutions Holdings Inc</td>\n",
       "    </tr>\n",
       "  </tbody>\n",
       "</table>\n",
       "</div>"
      ],
      "text/plain": [
       "                                      patent_holders\n",
       "0                                 Signify Holding BV\n",
       "1                    ThyssenKrupp Airport Systems SA\n",
       "2                                            Eurenco\n",
       "3                       EI du Pont de Nemours and Co\n",
       "4                           TRIATEX INTERNATIONAL AG\n",
       "5  THYSSENKRUPP TAILORED BLANKS GMBH, 47139 DUISB...\n",
       "6                                       Howe Wayne R\n",
       "7                        Carbone Lorraine Composants\n",
       "8                                         Google LLC\n",
       "9            MACOM Technology Solutions Holdings Inc"
      ]
     },
     "execution_count": 19,
     "metadata": {},
     "output_type": "execute_result"
    }
   ],
   "source": [
    "# load data_c\n",
    "data_c = load_data(data_source = 'Patentholders.csv', column_name = 'patent_holders')\n",
    "data_c.head(10)"
   ]
  },
  {
   "cell_type": "code",
   "execution_count": 20,
   "id": "917659b3-2bc2-4090-b8b5-9a2fb4e46e43",
   "metadata": {},
   "outputs": [
    {
     "name": "stdout",
     "output_type": "stream",
     "text": [
      "(5, 1)\n"
     ]
    },
    {
     "data": {
      "text/html": [
       "<div>\n",
       "<style scoped>\n",
       "    .dataframe tbody tr th:only-of-type {\n",
       "        vertical-align: middle;\n",
       "    }\n",
       "\n",
       "    .dataframe tbody tr th {\n",
       "        vertical-align: top;\n",
       "    }\n",
       "\n",
       "    .dataframe thead th {\n",
       "        text-align: right;\n",
       "    }\n",
       "</style>\n",
       "<table border=\"1\" class=\"dataframe\">\n",
       "  <thead>\n",
       "    <tr style=\"text-align: right;\">\n",
       "      <th></th>\n",
       "      <th>patent_holders</th>\n",
       "    </tr>\n",
       "  </thead>\n",
       "  <tbody>\n",
       "    <tr>\n",
       "      <th>0</th>\n",
       "      <td>University of California</td>\n",
       "    </tr>\n",
       "    <tr>\n",
       "      <th>1</th>\n",
       "      <td>University of California Berkeley</td>\n",
       "    </tr>\n",
       "    <tr>\n",
       "      <th>2</th>\n",
       "      <td>University of Southern California USC</td>\n",
       "    </tr>\n",
       "    <tr>\n",
       "      <th>3</th>\n",
       "      <td>CALIFORNIA A CORP OF, University of, Regents of</td>\n",
       "    </tr>\n",
       "    <tr>\n",
       "      <th>4</th>\n",
       "      <td>California State University Long Beach</td>\n",
       "    </tr>\n",
       "  </tbody>\n",
       "</table>\n",
       "</div>"
      ],
      "text/plain": [
       "                                    patent_holders\n",
       "0                         University of California\n",
       "1                University of California Berkeley\n",
       "2            University of Southern California USC\n",
       "3  CALIFORNIA A CORP OF, University of, Regents of\n",
       "4           California State University Long Beach"
      ]
     },
     "execution_count": 20,
     "metadata": {},
     "output_type": "execute_result"
    }
   ],
   "source": [
    "data_c = pruning_by_string(data = data_c, column_name = 'patent_holders', string = 'univ')\n",
    "data_c = pruning_by_string(data = data_c, column_name = 'patent_holders', string = 'calif')\n",
    "print(data_c.shape)\n",
    "data_c.head(10)"
   ]
  },
  {
   "cell_type": "code",
   "execution_count": 21,
   "id": "5ce9ff77-3b2a-4874-a4de-2e563342d1b8",
   "metadata": {},
   "outputs": [],
   "source": [
    "c_id2wstoken, c_id2qg3tokens, c_ids, c_id2gid = get_tokens(data = data_c, column_name = 'patent_holders')"
   ]
  },
  {
   "cell_type": "code",
   "execution_count": 22,
   "id": "3aa73549-2f3d-4e0c-997d-98705721ed45",
   "metadata": {},
   "outputs": [],
   "source": [
    "c_pgid2ids = match_values_to_group(c_id2wstoken, index_list = c_ids, similarity_measure = jac, threshould = 0.5)"
   ]
  },
  {
   "cell_type": "code",
   "execution_count": 23,
   "id": "6d7d0e56-eef5-4006-9fa4-e74792d52081",
   "metadata": {},
   "outputs": [
    {
     "data": {
      "text/plain": [
       "['University of California',\n",
       " 'University of California Berkeley',\n",
       " 'University of Southern California USC']"
      ]
     },
     "execution_count": 23,
     "metadata": {},
     "output_type": "execute_result"
    }
   ],
   "source": [
    "c_matched_list = find_matching_values(data = data_c, pgid2ids = c_pgid2ids, target_string = 'Univ. of Calif.', threshould = 0.2, word_token = qg3_tok)\n",
    "c_matched_list"
   ]
  }
 ],
 "metadata": {
  "kernelspec": {
   "display_name": "Python 3",
   "language": "python",
   "name": "python3"
  },
  "language_info": {
   "codemirror_mode": {
    "name": "ipython",
    "version": 3
   },
   "file_extension": ".py",
   "mimetype": "text/x-python",
   "name": "python",
   "nbconvert_exporter": "python",
   "pygments_lexer": "ipython3",
   "version": "3.8.8"
  },
  "nbTranslate": {
   "displayLangs": [
    "*"
   ],
   "hotkey": "alt-t",
   "langInMainMenu": true,
   "sourceLang": "en",
   "targetLang": "fr",
   "useGoogleTranslate": true
  },
  "toc": {
   "base_numbering": 1,
   "nav_menu": {},
   "number_sections": false,
   "sideBar": true,
   "skip_h1_title": false,
   "title_cell": "Table of Contents",
   "title_sidebar": "Contents",
   "toc_cell": true,
   "toc_position": {},
   "toc_section_display": true,
   "toc_window_display": false
  },
  "varInspector": {
   "cols": {
    "lenName": 16,
    "lenType": 16,
    "lenVar": 40
   },
   "kernels_config": {
    "python": {
     "delete_cmd_postfix": "",
     "delete_cmd_prefix": "del ",
     "library": "var_list.py",
     "varRefreshCmd": "print(var_dic_list())"
    },
    "r": {
     "delete_cmd_postfix": ") ",
     "delete_cmd_prefix": "rm(",
     "library": "var_list.r",
     "varRefreshCmd": "cat(var_dic_list()) "
    }
   },
   "types_to_exclude": [
    "module",
    "function",
    "builtin_function_or_method",
    "instance",
    "_Feature"
   ],
   "window_display": false
  }
 },
 "nbformat": 4,
 "nbformat_minor": 5
}
